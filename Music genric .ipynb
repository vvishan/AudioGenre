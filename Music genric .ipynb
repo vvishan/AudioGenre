{
  "nbformat": 4,
  "nbformat_minor": 0,
  "metadata": {
    "colab": {
      "provenance": []
    },
    "kernelspec": {
      "name": "python3",
      "display_name": "Python 3"
    },
    "language_info": {
      "name": "python"
    }
  },
  "cells": [
    {
      "cell_type": "code",
      "execution_count": null,
      "metadata": {
        "id": "j8zAVCujkkvp"
      },
      "outputs": [],
      "source": [
        "!wget  https://www.dropbox.com/s/4jw31k5mlzcmgis/genres.tar.gz?dl=0"
      ]
    },
    {
      "cell_type": "code",
      "source": [
        "!tar -xvf \"/content/genres.tar.gz?dl=0\" -C \"/content/sample_data\""
      ],
      "metadata": {
        "id": "mTQa12_xlBS1"
      },
      "execution_count": null,
      "outputs": []
    },
    {
      "cell_type": "code",
      "source": [
        "!rm genres.tar.gz?dl=0"
      ],
      "metadata": {
        "id": "HT5ijWKh7a9O"
      },
      "execution_count": 3,
      "outputs": []
    },
    {
      "cell_type": "code",
      "source": [
        "!pip install pydub\n",
        "!apt-get install ffmpeg\n",
        "!pip install python_speech_features"
      ],
      "metadata": {
        "id": "dBn5VV9DAN1-"
      },
      "execution_count": null,
      "outputs": []
    },
    {
      "cell_type": "code",
      "source": [
        "from pydub import AudioSegment"
      ],
      "metadata": {
        "id": "veM-RuRBAfsO"
      },
      "execution_count": 5,
      "outputs": []
    },
    {
      "cell_type": "code",
      "source": [
        "from python_speech_features import mfcc\n",
        "import scipy.io.wavfile as wav\n",
        "import numpy as np\n",
        "from tempfile import TemporaryFile\n",
        "import os\n",
        "import pickle\n",
        "import random \n",
        "import operator\n",
        "import math\n",
        "import numpy as np\n",
        "from python_speech_features import logfbank"
      ],
      "metadata": {
        "id": "St3DBxpTnko-"
      },
      "execution_count": 6,
      "outputs": []
    },
    {
      "cell_type": "code",
      "source": [
        "OUTPUT_DIR=\"/content/output\" \n",
        "directory = \"/content/sample_data/genres/\"\n",
        "i=0\n",
        "for folder in os.listdir(directory):\n",
        "  i+=1\n",
        "  if i==11 :\n",
        "    break\n",
        "for file in os.listdir(directory+folder):\n",
        "  print(file)\n",
        "  au_audio = AudioSegment.from_file(directory+folder+'/'+file+'.au')\n",
        "  wav_audio = au_audio.export(directory+folder+\"/\"+file+\".wav\", format=\"Wav\")"
      ],
      "metadata": {
        "id": "5EjARK4rPVUn"
      },
      "execution_count": null,
      "outputs": []
    },
    {
      "cell_type": "markdown",
      "source": [
        "function to get the distance between feature vectors and find neighbors:"
      ],
      "metadata": {
        "id": "lS2M0Js2PnlL"
      }
    },
    {
      "cell_type": "code",
      "source": [
        "def getNeighbors(trainingSet, instance, k):\n",
        "    distances = []\n",
        "    for x in range (len(trainingSet)):\n",
        "        dist = distance(trainingSet[x], instance, k )+ distance(instance, trainingSet[x], k)\n",
        "        distances.append((trainingSet[x][2], dist))\n",
        "    distances.sort(key=operator.itemgetter(1))\n",
        "    neighbors = []\n",
        "    for x in range(k):\n",
        "        neighbors.append(distances[x][0])\n",
        "    return neighbors"
      ],
      "metadata": {
        "id": "T_jSwzLBnk2S"
      },
      "execution_count": 10,
      "outputs": []
    },
    {
      "cell_type": "markdown",
      "source": [
        "Identify the nearest neighbors:"
      ],
      "metadata": {
        "id": "vChC-7_xPtpp"
      }
    },
    {
      "cell_type": "code",
      "source": [
        "def nearestClass(neighbors):\n",
        "    classVote = {}\n",
        "    for x in range(len(neighbors)):\n",
        "        response = neighbors[x]\n",
        "        if response in classVote:\n",
        "            classVote[response]+=1 \n",
        "        else:\n",
        "            classVote[response]=1\n",
        "    sorter = sorted(classVote.items(), key = operator.itemgetter(1), reverse=True)\n",
        "    return sorter[0][0]"
      ],
      "metadata": {
        "id": "sum6CPNmnlC0"
      },
      "execution_count": 11,
      "outputs": []
    },
    {
      "cell_type": "markdown",
      "source": [
        "function for model evaluation"
      ],
      "metadata": {
        "id": "wTG0l4FsP_1W"
      }
    },
    {
      "cell_type": "code",
      "source": [
        "def getAccuracy(testSet, predictions):\n",
        "    correct = 0 \n",
        "    for x in range (len(testSet)):\n",
        "        if testSet[x][-1]==predictions[x]:\n",
        "            correct+=1\n",
        "    return 1.0*correct/len(testSet)"
      ],
      "metadata": {
        "id": "_pC8Q7qqnlP7"
      },
      "execution_count": 12,
      "outputs": []
    },
    {
      "cell_type": "code",
      "source": [
        "import warnings"
      ],
      "metadata": {
        "id": "x-itr0IvUrf2"
      },
      "execution_count": 22,
      "outputs": []
    },
    {
      "cell_type": "markdown",
      "source": [
        "Extract features from the dataset and dump these features into a binary .dat file “my.dat”:"
      ],
      "metadata": {
        "id": "Dj9pF172QG84"
      }
    },
    {
      "cell_type": "code",
      "source": [
        "directory = \"/content/sample_data/genres/\"\n",
        "f= open(\"my.dat\" ,'wb')\n",
        "i=0\n",
        "for folder in os.listdir(directory):\n",
        "    i+=1\n",
        "    if i==11 :\n",
        "        break   \n",
        "    for file in os.listdir(directory+folder):\n",
        "      file = file.replace('.au','.wav')\n",
        "      (rate,sig) = wav.read(directory+folder+\"/\"+file)\n",
        "      mfcc_feat = mfcc(sig,rate ,winlen=0.020, appendEnergy = False)\n",
        "      covariance = np.cov(np.matrix.transpose(mfcc_feat))\n",
        "      mean_matrix = mfcc_feat.mean(0)\n",
        "      feature = (mean_matrix , covariance , i)\n",
        "      pickle.dump(feature , f)\n",
        "f.close()"
      ],
      "metadata": {
        "id": "-mBG_wGHQJli"
      },
      "execution_count": null,
      "outputs": []
    },
    {
      "cell_type": "markdown",
      "source": [
        "Train and test split on the dataset:"
      ],
      "metadata": {
        "id": "MSenj7twQdJT"
      }
    },
    {
      "cell_type": "code",
      "source": [
        "dataset = []\n",
        "def loadDataset(filename , split , trSet , teSet):\n",
        "    with open(\"my.dat\" , 'rb') as f:\n",
        "        while True:\n",
        "            try:\n",
        "                dataset.append(pickle.load(f))\n",
        "            except EOFError:\n",
        "                f.close()\n",
        "                break  \n",
        "    for x in range(len(dataset)):\n",
        "        if random.random() <split :      \n",
        "            trSet.append(dataset[x])\n",
        "        else:\n",
        "            teSet.append(dataset[x])  \n",
        "trainingSet = []\n",
        "testSet = []\n",
        "loadDataset(\"my.dat\" , 0.66, trainingSet, testSet)"
      ],
      "metadata": {
        "id": "1sm8wkp3r9xR"
      },
      "execution_count": null,
      "outputs": []
    },
    {
      "cell_type": "markdown",
      "source": [
        "Make prediction using KNN and get the accuracy on test data:"
      ],
      "metadata": {
        "id": "OhJ2g4qpQrTw"
      }
    },
    {
      "cell_type": "code",
      "source": [
        "leng = len(testSet)\n",
        "predictions = []\n",
        "for x in range (leng):\n",
        "    predictions.append(nearestClass(getNeighbors(trainingSet ,testSet[x] , 5))) \n",
        "accuracy1 = getAccuracy(testSet , predictions)\n",
        "print(accuracy1)"
      ],
      "metadata": {
        "id": "ux8rBUGxQ02B"
      },
      "execution_count": null,
      "outputs": []
    },
    {
      "cell_type": "markdown",
      "source": [
        "Testing the classifier with new audio file"
      ],
      "metadata": {
        "id": "FvkQ_qCzYefc"
      }
    },
    {
      "cell_type": "code",
      "source": [
        "from python_speech_features import mfcc\n",
        "import scipy.io.wavfile as wav\n",
        "import numpy as np\n",
        "from tempfile import TemporaryFile\n",
        "import os\n",
        "import pickle\n",
        "import random \n",
        "import operator\n",
        "import math\n",
        "import numpy as np\n",
        "from collections import defaultdict"
      ],
      "metadata": {
        "id": "x4B6kF-sRLgn"
      },
      "execution_count": null,
      "outputs": []
    },
    {
      "cell_type": "code",
      "source": [
        "dataset = []\n",
        "def loadDataset(filename):\n",
        "    with open(\"my.dat\" , 'rb') as f:\n",
        "        while True:\n",
        "            try:\n",
        "                dataset.append(pickle.load(f))\n",
        "            except EOFError:\n",
        "                f.close()\n",
        "                break\n",
        "loadDataset(\"my.dat\")\n"
      ],
      "metadata": {
        "id": "1cBXD4_aRLkt"
      },
      "execution_count": null,
      "outputs": []
    },
    {
      "cell_type": "code",
      "source": [
        "def distance(instance1 , instance2 , k ):\n",
        "    distance =0 \n",
        "    mm1 = instance1[0] \n",
        "    cm1 = instance1[1]\n",
        "    mm2 = instance2[0]\n",
        "    cm2 = instance2[1]\n",
        "    distance = np.trace(np.dot(np.linalg.inv(cm2), cm1)) \n",
        "    distance+=(np.dot(np.dot((mm2-mm1).transpose() , np.linalg.inv(cm2)) , mm2-mm1 )) \n",
        "    distance+= np.log(np.linalg.det(cm2)) - np.log(np.linalg.det(cm1))\n",
        "    distance-= k\n",
        "    return distance\n"
      ],
      "metadata": {
        "id": "Pwl3bVDSRLod"
      },
      "execution_count": null,
      "outputs": []
    },
    {
      "cell_type": "code",
      "source": [
        "def getNeighbors(trainingSet , instance , k):\n",
        "    distances =[]\n",
        "    for x in range (len(trainingSet)):\n",
        "        dist = distance(trainingSet[x], instance, k )+ distance(instance, trainingSet[x], k)\n",
        "        distances.append((trainingSet[x][2], dist))\n",
        "    distances.sort(key=operator.itemgetter(1))\n",
        "    neighbors = []\n",
        "    for x in range(k):\n",
        "        neighbors.append(distances[x][0])\n",
        "    return neighbors  "
      ],
      "metadata": {
        "id": "8btyTsNzRLr9"
      },
      "execution_count": null,
      "outputs": []
    },
    {
      "cell_type": "code",
      "source": [
        "def nearestClass(neighbors):\n",
        "    classVote ={}\n",
        "    for x in range(len(neighbors)):\n",
        "        response = neighbors[x]\n",
        "        if response in classVote:\n",
        "            classVote[response]+=1 \n",
        "        else:\n",
        "            classVote[response]=1 \n",
        "    sorter = sorted(classVote.items(), key = operator.itemgetter(1), reverse=True)\n",
        "    return sorter[0][0]\n",
        "results=defaultdict(int)\n",
        "i=1\n",
        "for folder in os.listdir(\"/content/sample_data/genres/\"):\n",
        "    results[i]=folder\n",
        "    i+=1\n",
        "(rate,sig)=wav.read(\"/content/sample_data/genres/blues/blues.00000.au\")\n",
        "mfcc_feat=mfcc(sig,rate,winlen=0.020,appendEnergy=False)\n",
        "covariance = np.cov(np.matrix.transpose(mfcc_feat))\n",
        "mean_matrix = mfcc_feat.mean(0)\n",
        "feature=(mean_matrix,covariance,0)\n",
        "pred=nearestClass(getNeighbors(dataset ,feature , 5))\n",
        "print(results[pred])"
      ],
      "metadata": {
        "id": "eRmI9FO_RLvU"
      },
      "execution_count": null,
      "outputs": []
    },
    {
      "cell_type": "markdown",
      "source": [
        "Exercise"
      ],
      "metadata": {
        "id": "fL-OEv-8hkDe"
      }
    },
    {
      "cell_type": "code",
      "source": [
        "from collections import defaultdict\n",
        "result = defaultdict(int)\n",
        "directory = \"/content/sample_data/genres/\"\n",
        "i=1\n",
        "for file in os.listdir(directory):\n",
        "  result[i]=file\n",
        "  i+=1\n",
        "print(result)\n"
      ],
      "metadata": {
        "colab": {
          "base_uri": "https://localhost:8080/"
        },
        "id": "CJTJcewcwdrQ",
        "outputId": "c6961abd-8d9c-4235-f574-427429c31260"
      },
      "execution_count": null,
      "outputs": [
        {
          "output_type": "stream",
          "name": "stdout",
          "text": [
            "defaultdict(<class 'int'>, {1: 'blues', 2: 'reggae', 3: 'metal', 4: 'jazz', 5: 'classical', 6: 'rock', 7: 'pop', 8: 'hiphop', 9: 'country', 10: 'disco'})\n"
          ]
        }
      ]
    },
    {
      "cell_type": "code",
      "source": [
        "from pydub import AudioSegment\n",
        "\n",
        "au_audio = AudioSegment.from_file('/content/sample_data/genres/blues/blues.00000.au')\n",
        "wav_audio = au_audio.export(\"blues.00000.wav\", format=\"Wav\")\n"
      ],
      "metadata": {
        "id": "5Hg-ihE2bZAf"
      },
      "execution_count": null,
      "outputs": []
    }
  ]
}